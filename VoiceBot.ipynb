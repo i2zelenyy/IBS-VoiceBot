{
  "nbformat": 4,
  "nbformat_minor": 0,
  "metadata": {
    "colab": {
      "provenance": [],
      "authorship_tag": "ABX9TyPi7xjHDTpmhQ2X+0wErI62"
    },
    "kernelspec": {
      "name": "python3",
      "display_name": "Python 3"
    },
    "language_info": {
      "name": "python"
    }
  },
  "cells": [
    {
      "cell_type": "markdown",
      "source": [],
      "metadata": {
        "id": "dkC9qnX7rh_k"
      }
    },
    {
      "cell_type": "markdown",
      "source": [
        "#Import"
      ],
      "metadata": {
        "id": "w7izCGDmsAAk"
      }
    },
    {
      "cell_type": "code",
      "source": [
        "#!pip install numpy==2.0.2\n",
        "#!pip install tensorflow==2.18.0\n",
        "#!pip install transformers==4.51.3\n",
        "#!pip install torch==2.6.0\n",
        "#!pip install keras==3.7.0"
      ],
      "metadata": {
        "id": "-jzMFm1lrivA",
        "collapsed": true,
        "outputId": "6cee6f19-ab69-400b-91ae-75f5e8271216",
        "colab": {
          "base_uri": "https://localhost:8080/"
        }
      },
      "execution_count": 1,
      "outputs": [
        {
          "output_type": "stream",
          "name": "stdout",
          "text": [
            "Requirement already satisfied: keras==3.7.0 in /usr/local/lib/python3.11/dist-packages (3.7.0)\n",
            "Requirement already satisfied: absl-py in /usr/local/lib/python3.11/dist-packages (from keras==3.7.0) (1.4.0)\n",
            "Requirement already satisfied: numpy in /usr/local/lib/python3.11/dist-packages (from keras==3.7.0) (2.0.2)\n",
            "Requirement already satisfied: rich in /usr/local/lib/python3.11/dist-packages (from keras==3.7.0) (13.9.4)\n",
            "Requirement already satisfied: namex in /usr/local/lib/python3.11/dist-packages (from keras==3.7.0) (0.0.9)\n",
            "Requirement already satisfied: h5py in /usr/local/lib/python3.11/dist-packages (from keras==3.7.0) (3.13.0)\n",
            "Requirement already satisfied: optree in /usr/local/lib/python3.11/dist-packages (from keras==3.7.0) (0.15.0)\n",
            "Requirement already satisfied: ml-dtypes in /usr/local/lib/python3.11/dist-packages (from keras==3.7.0) (0.4.1)\n",
            "Requirement already satisfied: packaging in /usr/local/lib/python3.11/dist-packages (from keras==3.7.0) (24.2)\n",
            "Requirement already satisfied: typing-extensions>=4.5.0 in /usr/local/lib/python3.11/dist-packages (from optree->keras==3.7.0) (4.13.2)\n",
            "Requirement already satisfied: markdown-it-py>=2.2.0 in /usr/local/lib/python3.11/dist-packages (from rich->keras==3.7.0) (3.0.0)\n",
            "Requirement already satisfied: pygments<3.0.0,>=2.13.0 in /usr/local/lib/python3.11/dist-packages (from rich->keras==3.7.0) (2.19.1)\n",
            "Requirement already satisfied: mdurl~=0.1 in /usr/local/lib/python3.11/dist-packages (from markdown-it-py>=2.2.0->rich->keras==3.7.0) (0.1.2)\n"
          ]
        }
      ]
    },
    {
      "cell_type": "code",
      "source": [
        "import pandas as pd\n",
        "import numpy as np\n",
        "\n",
        "from transformers import AutoTokenizer\n",
        "from transformers import TFDistilBertForSequenceClassification\n",
        "\n",
        "from sklearn.preprocessing import LabelEncoder\n",
        "from sklearn.model_selection import train_test_split\n",
        "\n",
        "import tensorflow as tf"
      ],
      "metadata": {
        "id": "g7ZBSoBFXvn7"
      },
      "execution_count": 2,
      "outputs": []
    },
    {
      "source": [
        "# Intentions file import\n",
        "intentions = pd.read_csv(\"/content/test_intent_dataset.csv\")"
      ],
      "cell_type": "code",
      "metadata": {
        "id": "JswUYsBfjFks"
      },
      "execution_count": 3,
      "outputs": []
    },
    {
      "cell_type": "markdown",
      "source": [
        "#Model"
      ],
      "metadata": {
        "id": "JzYrYcn8bVMI"
      }
    },
    {
      "cell_type": "code",
      "source": [
        "# Convert intention labels into numerical form\n",
        "label_encoder = LabelEncoder()\n",
        "intentions['encoded_labels'] = label_encoder.fit_transform(intentions['intent'])\n",
        "\n",
        "# Split the data\n",
        "X_train, X_test, Y_train, Y_test = train_test_split(intentions[\"text\"].tolist(), intentions[\"encoded_labels\"].tolist(), test_size=0.2, random_state=42)\n",
        "Y_train, Y_test = np.array(Y_train), np.array(Y_test)\n",
        "\n",
        "# Tokenization\n",
        "tokenizer = AutoTokenizer.from_pretrained(\"distilbert-base-multilingual-cased\")\n",
        "\n",
        "train_tokens = tokenizer(X_train, padding=True, truncation=True, max_length=64, return_tensors=\"tf\")\n",
        "test_tokens = tokenizer(X_test, padding=True, truncation=True, max_length=64, return_tensors=\"tf\")\n",
        "\n",
        "# Shuffle and batch data for input\n",
        "train_data = tf.data.Dataset.from_tensor_slices((dict(train_tokens), Y_train)).shuffle(1000).batch(8)\n",
        "test_data = tf.data.Dataset.from_tensor_slices((dict(test_tokens), Y_test)).batch(8)\n",
        "\n",
        "# Model initialization\n",
        "model = TFDistilBertForSequenceClassification.from_pretrained(\n",
        "    \"distilbert-base-multilingual-cased\", num_labels=len(label_encoder.classes_)\n",
        ")\n",
        "\n",
        "# Model compilation\n",
        "model.compile(\n",
        "    optimizer=tf.keras.optimizers.Adam(learning_rate=5e-5),\n",
        "    loss=tf.keras.losses.SparseCategoricalCrossentropy(from_logits=True),\n",
        "    metrics=[\"accuracy\"]\n",
        ")"
      ],
      "metadata": {
        "id": "l5NDilU7Em4V",
        "outputId": "9b44e0b8-d6d3-43f0-8d7f-6e5f82f249d3",
        "colab": {
          "base_uri": "https://localhost:8080/"
        }
      },
      "execution_count": 4,
      "outputs": [
        {
          "output_type": "stream",
          "name": "stderr",
          "text": [
            "/usr/local/lib/python3.11/dist-packages/huggingface_hub/utils/_auth.py:94: UserWarning: \n",
            "The secret `HF_TOKEN` does not exist in your Colab secrets.\n",
            "To authenticate with the Hugging Face Hub, create a token in your settings tab (https://huggingface.co/settings/tokens), set it as secret in your Google Colab and restart your session.\n",
            "You will be able to reuse this secret in all of your notebooks.\n",
            "Please note that authentication is recommended but still optional to access public models or datasets.\n",
            "  warnings.warn(\n",
            "Some weights of the PyTorch model were not used when initializing the TF 2.0 model TFDistilBertForSequenceClassification: ['vocab_transform.bias', 'vocab_transform.weight', 'vocab_projector.bias', 'vocab_layer_norm.bias', 'vocab_layer_norm.weight']\n",
            "- This IS expected if you are initializing TFDistilBertForSequenceClassification from a PyTorch model trained on another task or with another architecture (e.g. initializing a TFBertForSequenceClassification model from a BertForPreTraining model).\n",
            "- This IS NOT expected if you are initializing TFDistilBertForSequenceClassification from a PyTorch model that you expect to be exactly identical (e.g. initializing a TFBertForSequenceClassification model from a BertForSequenceClassification model).\n",
            "Some weights or buffers of the TF 2.0 model TFDistilBertForSequenceClassification were not initialized from the PyTorch model and are newly initialized: ['pre_classifier.weight', 'pre_classifier.bias', 'classifier.weight', 'classifier.bias']\n",
            "You should probably TRAIN this model on a down-stream task to be able to use it for predictions and inference.\n"
          ]
        }
      ]
    },
    {
      "cell_type": "code",
      "source": [
        "# Train model\n",
        "model.fit(\n",
        "    train_data,\n",
        "    validation_data=test_data,\n",
        "    epochs=10\n",
        ")"
      ],
      "metadata": {
        "id": "G3_qO2A2YKzK",
        "outputId": "f691c192-4982-48fa-ed05-2edb29fc7183",
        "colab": {
          "base_uri": "https://localhost:8080/"
        }
      },
      "execution_count": 5,
      "outputs": [
        {
          "output_type": "stream",
          "name": "stdout",
          "text": [
            "Epoch 1/10\n",
            "8/8 [==============================] - 67s 5s/step - loss: 2.4659 - accuracy: 0.1404 - val_loss: 2.4389 - val_accuracy: 0.0000e+00\n",
            "Epoch 2/10\n",
            "8/8 [==============================] - 27s 3s/step - loss: 2.2908 - accuracy: 0.2632 - val_loss: 2.3687 - val_accuracy: 0.0667\n",
            "Epoch 3/10\n",
            "8/8 [==============================] - 27s 3s/step - loss: 2.0491 - accuracy: 0.4912 - val_loss: 2.2110 - val_accuracy: 0.2000\n",
            "Epoch 4/10\n",
            "8/8 [==============================] - 27s 3s/step - loss: 1.8062 - accuracy: 0.6491 - val_loss: 2.0394 - val_accuracy: 0.2667\n",
            "Epoch 5/10\n",
            "8/8 [==============================] - 26s 3s/step - loss: 1.5129 - accuracy: 0.7544 - val_loss: 1.8981 - val_accuracy: 0.4667\n",
            "Epoch 6/10\n",
            "8/8 [==============================] - 26s 3s/step - loss: 1.2010 - accuracy: 0.8772 - val_loss: 1.7618 - val_accuracy: 0.5333\n",
            "Epoch 7/10\n",
            "8/8 [==============================] - 32s 3s/step - loss: 0.9392 - accuracy: 0.9298 - val_loss: 1.6002 - val_accuracy: 0.6000\n",
            "Epoch 8/10\n",
            "8/8 [==============================] - 27s 3s/step - loss: 0.7476 - accuracy: 0.9474 - val_loss: 1.4699 - val_accuracy: 0.6000\n",
            "Epoch 9/10\n",
            "8/8 [==============================] - 26s 3s/step - loss: 0.5782 - accuracy: 0.9825 - val_loss: 1.3365 - val_accuracy: 0.6000\n",
            "Epoch 10/10\n",
            "8/8 [==============================] - 26s 3s/step - loss: 0.4582 - accuracy: 0.9825 - val_loss: 1.3334 - val_accuracy: 0.6667\n"
          ]
        },
        {
          "output_type": "execute_result",
          "data": {
            "text/plain": [
              "<tf_keras.src.callbacks.History at 0x7bf7d8e261d0>"
            ]
          },
          "metadata": {},
          "execution_count": 5
        }
      ]
    },
    {
      "cell_type": "code",
      "source": [
        "# Save Model\n",
        "#model.save_pretrained(\"./intent_model\")\n",
        "#tokenizer.save_pretrained(\"./intent_model\")\n",
        "\n",
        "# Load Model\n",
        "#model = TFDistilBertForSequenceClassification.from_pretrained(\"./intent_model\")\n",
        "#tokenizer = AutoTokenizer.from_pretrained(\"./intent_model\")"
      ],
      "metadata": {
        "id": "nsgUILLNiUjg"
      },
      "execution_count": null,
      "outputs": []
    },
    {
      "cell_type": "code",
      "source": [
        "sample_texts = [\"Hello. Can you help me?\", \"Bye\"]\n",
        "sample_tokens = tokenizer(sample_texts, padding=True, truncation=True, max_length=64, return_tensors=\"tf\")\n",
        "\n",
        "predictions = model.predict(dict(sample_tokens)).logits\n",
        "predicted_labels = np.argmax(predictions, axis=1)\n",
        "\n",
        "# Decode the predicted class numbers back to label names\n",
        "decoded_predictions = label_encoder.inverse_transform(predicted_labels)\n",
        "print(decoded_predictions)"
      ],
      "metadata": {
        "id": "MqQaK-vmhHVm",
        "outputId": "a3fac8ca-0847-4d3d-c330-7d9ffb8b87ba",
        "colab": {
          "base_uri": "https://localhost:8080/"
        }
      },
      "execution_count": 13,
      "outputs": [
        {
          "output_type": "stream",
          "name": "stdout",
          "text": [
            "1/1 [==============================] - 0s 149ms/step\n",
            "['help_request' 'goodbye']\n"
          ]
        }
      ]
    },
    {
      "cell_type": "code",
      "source": [
        "def respond_to_input(text):\n",
        "    tokens = tokenizer([text], padding=True, truncation=True, max_length=64, return_tensors=\"tf\")\n",
        "    logits = model.predict(dict(tokens)).logits\n",
        "    pred = np.argmax(logits, axis=1)\n",
        "    intent = label_encoder.inverse_transform(pred)[0]\n",
        "\n",
        "    response = intent_response_map.get(intent, \"Sorry, I didn't quite understand that.\")\n",
        "    return intent, response\n",
        "\n",
        "# Try it out\n",
        "input_text = \"I want to cancel my booking\"\n",
        "intent, response = respond_to_input(input_text)\n",
        "print(f\"Intent: {intent}\")\n",
        "print(f\"Response: {response}\")\n"
      ],
      "metadata": {
        "id": "lD7QuYKRiLzJ",
        "outputId": "1cfba313-0b29-4f54-e870-4a33afeecab9",
        "colab": {
          "base_uri": "https://localhost:8080/"
        }
      },
      "execution_count": 16,
      "outputs": [
        {
          "output_type": "stream",
          "name": "stdout",
          "text": [
            "1/1 [==============================] - 0s 82ms/step\n",
            "Intent: payment\n",
            "Response: Sorry, I didn't quite understand that.\n"
          ]
        }
      ]
    },
    {
      "cell_type": "code",
      "source": [
        "intentions[\"intent\"].unique()"
      ],
      "metadata": {
        "id": "jtfsxbQWi_i0",
        "outputId": "bdb748ca-16b4-47b7-e0d2-96cc576556cf",
        "colab": {
          "base_uri": "https://localhost:8080/"
        }
      },
      "execution_count": 18,
      "outputs": [
        {
          "output_type": "execute_result",
          "data": {
            "text/plain": [
              "array(['greeting', 'goodbye', 'thanks', 'help_request', 'report_issue',\n",
              "       'book_flight', 'book_hotel', 'book_taxi', 'book_table',\n",
              "       'order_status', 'payment', 'product_info'], dtype=object)"
            ]
          },
          "metadata": {},
          "execution_count": 18
        }
      ]
    },
    {
      "cell_type": "code",
      "source": [],
      "metadata": {
        "id": "JCwslHtSv_nC"
      },
      "execution_count": null,
      "outputs": []
    }
  ]
}