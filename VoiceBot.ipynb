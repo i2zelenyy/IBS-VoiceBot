{
  "nbformat": 4,
  "nbformat_minor": 0,
  "metadata": {
    "colab": {
      "provenance": [],
      "authorship_tag": "ABX9TyOnWvKmzWdKrgtD64cx+ezI"
    },
    "kernelspec": {
      "name": "python3",
      "display_name": "Python 3"
    },
    "language_info": {
      "name": "python"
    }
  },
  "cells": [
    {
      "cell_type": "markdown",
      "source": [],
      "metadata": {
        "id": "dkC9qnX7rh_k"
      }
    },
    {
      "cell_type": "markdown",
      "source": [
        "#Import"
      ],
      "metadata": {
        "id": "w7izCGDmsAAk"
      }
    },
    {
      "cell_type": "code",
      "source": [
        "import pandas as pd\n",
        "import numpy as np\n",
        "import matplotlib.pyplot as plt\n",
        "import seaborn as sns\n",
        "\n",
        "# import dataset"
      ],
      "metadata": {
        "id": "-jzMFm1lrivA"
      },
      "execution_count": null,
      "outputs": []
    },
    {
      "cell_type": "markdown",
      "source": [
        "#Data Cleansing"
      ],
      "metadata": {
        "id": "zGU9VMCcbD47"
      }
    },
    {
      "cell_type": "code",
      "source": [],
      "metadata": {
        "id": "xmKLHCRFsIlV"
      },
      "execution_count": null,
      "outputs": []
    },
    {
      "cell_type": "markdown",
      "source": [
        "#Model"
      ],
      "metadata": {
        "id": "JzYrYcn8bVMI"
      }
    },
    {
      "cell_type": "code",
      "source": [],
      "metadata": {
        "id": "qNs-H5ABbWUX"
      },
      "execution_count": null,
      "outputs": []
    },
    {
      "cell_type": "markdown",
      "source": [
        "#Metrics"
      ],
      "metadata": {
        "id": "mwRtzMQBbX39"
      }
    },
    {
      "cell_type": "code",
      "source": [],
      "metadata": {
        "id": "SUtV-XuZbZrf"
      },
      "execution_count": null,
      "outputs": []
    }
  ]
}